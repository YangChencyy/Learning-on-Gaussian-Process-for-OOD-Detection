{
 "cells": [
  {
   "cell_type": "code",
   "execution_count": 1,
   "metadata": {},
   "outputs": [
    {
     "ename": "ModuleNotFoundError",
     "evalue": "No module named 'tensorflow'",
     "output_type": "error",
     "traceback": [
      "\u001b[1;31m---------------------------------------------------------------------------\u001b[0m",
      "\u001b[1;31mModuleNotFoundError\u001b[0m                       Traceback (most recent call last)",
      "\u001b[1;32mc:\\Users\\11191\\Desktop\\2022 Summer\\Out of distribution learning\\code\\DNN_mnist.ipynb Cell 1'\u001b[0m in \u001b[0;36m<module>\u001b[1;34m\u001b[0m\n\u001b[0;32m      <a href='vscode-notebook-cell:/c%3A/Users/11191/Desktop/2022%20Summer/Out%20of%20distribution%20learning/code/DNN_mnist.ipynb#ch0000000?line=5'>6</a>\u001b[0m \u001b[39mfrom\u001b[39;00m \u001b[39mtorchvision\u001b[39;00m \u001b[39mimport\u001b[39;00m datasets, transforms\n\u001b[0;32m      <a href='vscode-notebook-cell:/c%3A/Users/11191/Desktop/2022%20Summer/Out%20of%20distribution%20learning/code/DNN_mnist.ipynb#ch0000000?line=6'>7</a>\u001b[0m \u001b[39mfrom\u001b[39;00m \u001b[39mtorch\u001b[39;00m \u001b[39mimport\u001b[39;00m nn, optim\n\u001b[1;32m----> <a href='vscode-notebook-cell:/c%3A/Users/11191/Desktop/2022%20Summer/Out%20of%20distribution%20learning/code/DNN_mnist.ipynb#ch0000000?line=7'>8</a>\u001b[0m \u001b[39mfrom\u001b[39;00m \u001b[39mtensorflow\u001b[39;00m \u001b[39mimport\u001b[39;00m keras\n\u001b[0;32m      <a href='vscode-notebook-cell:/c%3A/Users/11191/Desktop/2022%20Summer/Out%20of%20distribution%20learning/code/DNN_mnist.ipynb#ch0000000?line=8'>9</a>\u001b[0m \u001b[39mfrom\u001b[39;00m \u001b[39mtorch\u001b[39;00m\u001b[39m.\u001b[39;00m\u001b[39mutils\u001b[39;00m\u001b[39m.\u001b[39;00m\u001b[39mdata\u001b[39;00m \u001b[39mimport\u001b[39;00m Dataset\n\u001b[0;32m     <a href='vscode-notebook-cell:/c%3A/Users/11191/Desktop/2022%20Summer/Out%20of%20distribution%20learning/code/DNN_mnist.ipynb#ch0000000?line=9'>10</a>\u001b[0m \u001b[39mimport\u001b[39;00m \u001b[39mtorch\u001b[39;00m\u001b[39m.\u001b[39;00m\u001b[39mnn\u001b[39;00m\u001b[39m.\u001b[39;00m\u001b[39mfunctional\u001b[39;00m \u001b[39mas\u001b[39;00m \u001b[39mF\u001b[39;00m\n",
      "\u001b[1;31mModuleNotFoundError\u001b[0m: No module named 'tensorflow'"
     ]
    }
   ],
   "source": [
    "import numpy as np\n",
    "import torch\n",
    "import torchvision\n",
    "import matplotlib.pyplot as plt\n",
    "from time import time\n",
    "from torchvision import datasets, transforms\n",
    "from torch import nn, optim\n",
    "from tensorflow import keras\n",
    "from torch.utils.data import Dataset\n",
    "import torch.nn.functional as F"
   ]
  },
  {
   "cell_type": "code",
   "execution_count": 3,
   "metadata": {},
   "outputs": [],
   "source": [
    "class MNISTDataset(Dataset):\n",
    "    def __init__(self, image, label):\n",
    "        self.image = torch.tensor(image, dtype = torch.float32)\n",
    "        self.label = label\n",
    "\n",
    "    def __len__(self): return len(self.label)\n",
    "\n",
    "    def __getitem__(self, idx):\n",
    "        image_ = self.image[idx]\n",
    "        image_ = image_[None, :]\n",
    "        label_ = self.label[idx]\n",
    "        return image_, label_\n",
    "        "
   ]
  },
  {
   "cell_type": "code",
   "execution_count": 4,
   "metadata": {},
   "outputs": [
    {
     "name": "stdout",
     "output_type": "stream",
     "text": [
      "Downloading data from https://storage.googleapis.com/tensorflow/tf-keras-datasets/mnist.npz\n",
      "11490434/11490434 [==============================] - 1s 0us/step\n"
     ]
    }
   ],
   "source": [
    "(x_tr, y_tr), (x_ts, y_ts) = keras.datasets.mnist.load_data()\n",
    "trainset = MNISTDataset(x_tr, y_tr)\n",
    "valset = MNISTDataset(x_ts, y_ts)"
   ]
  },
  {
   "cell_type": "code",
   "execution_count": 5,
   "metadata": {},
   "outputs": [],
   "source": [
    "trainloader = torch.utils.data.DataLoader(trainset, batch_size=64, shuffle=False)\n",
    "valloader = torch.utils.data.DataLoader(valset, batch_size=64, shuffle=False)"
   ]
  },
  {
   "cell_type": "code",
   "execution_count": 6,
   "metadata": {},
   "outputs": [
    {
     "name": "stdout",
     "output_type": "stream",
     "text": [
      "torch.Size([64, 1, 28, 28])\n",
      "torch.Size([64])\n"
     ]
    }
   ],
   "source": [
    "dataiter = iter(trainloader)\n",
    "images, labels = dataiter.next()\n",
    "\n",
    "print(images.shape)\n",
    "print(labels.shape)"
   ]
  },
  {
   "cell_type": "code",
   "execution_count": 7,
   "metadata": {},
   "outputs": [],
   "source": [
    "class Net(nn.Module):\n",
    "    def __init__(self):\n",
    "        super(Net, self).__init__()\n",
    "        self.conv1 = nn.Conv2d(1, 10, kernel_size=5)\n",
    "        self.conv2 = nn.Conv2d(10, 20, kernel_size=5)\n",
    "        self.conv2_drop = nn.Dropout2d()\n",
    "        self.fc1 = nn.Linear(320, 50)\n",
    "        self.fc2 = nn.Linear(50, 10)\n",
    "\n",
    "    def forward(self, x):\n",
    "        x = F.relu(F.max_pool2d(self.conv1(x), 2))\n",
    "        x = F.relu(F.max_pool2d(self.conv2_drop(self.conv2(x)), 2))\n",
    "        x = x.view(-1, 320)\n",
    "        x = F.relu(self.fc1(x))\n",
    "        x = F.dropout(x, training=self.training)\n",
    "        x = self.fc2(x)\n",
    "        return F.log_softmax(x)"
   ]
  },
  {
   "cell_type": "code",
   "execution_count": 8,
   "metadata": {},
   "outputs": [],
   "source": [
    "n_epochs = 3\n",
    "learning_rate = 0.01\n",
    "momentum = 0.5\n",
    "log_interval = 500"
   ]
  },
  {
   "cell_type": "code",
   "execution_count": 9,
   "metadata": {},
   "outputs": [],
   "source": [
    "network = Net()\n",
    "optimizer = optim.SGD(network.parameters(), lr=learning_rate,\n",
    "                      momentum=momentum)"
   ]
  },
  {
   "cell_type": "code",
   "execution_count": 10,
   "metadata": {},
   "outputs": [],
   "source": [
    "train_losses = []\n",
    "train_counter = []\n",
    "test_losses = []\n",
    "test_counter = [i*len(trainloader.dataset) for i in range(n_epochs + 1)]"
   ]
  },
  {
   "cell_type": "code",
   "execution_count": 102,
   "metadata": {},
   "outputs": [],
   "source": [
    "from torch.autograd import grad\n",
    "\n",
    "def nth_derivative(f, wrt, n):\n",
    "    for i in range(n):\n",
    "        # f.retain_grad()\n",
    "        # grads = grad(f, wrt, create_graph=True)[0]\n",
    "        grads = grad(f, wrt,create_graph=True,allow_unused=True)[0]\n",
    "        \n",
    "        # grads = grad(f, wrt, create_graph=True,allow_unused=True)[0]\n",
    "        # print(grad(f, wrt, create_graph=True,allow_unused=True))\n",
    "        # print(grads)\n",
    "        f = grads.sum()\n",
    "\n",
    "    return grads"
   ]
  },
  {
   "cell_type": "code",
   "execution_count": 113,
   "metadata": {},
   "outputs": [],
   "source": [
    "from torch.autograd import grad\n",
    "\n",
    "def train(epoch):\n",
    "  network.train()\n",
    "  for batch_idx, (data, target) in enumerate(trainloader):\n",
    "    data.requires_grad_(True)\n",
    "    \n",
    "    optimizer.zero_grad()\n",
    "    output = network(data)\n",
    "    # print(output.shape) # torch.Size([64, 10])\n",
    "    # print(target.shape) # torch.Size([64])\n",
    "\n",
    "    # loss = F.nll_loss(output, target) + 0.001 * nth_derivative(output,data,2)\n",
    "    second_derivative = None\n",
    "    if second_derivative == None:\n",
    "      second_derivative = 0\n",
    "    loss = F.nll_loss(output, target) + second_derivative\n",
    "    temp_scalar_out = np.sqrt(np.sum(np.square(output.detach().numpy())))\n",
    "    scalar_out = torch.tensor(temp_scalar_out, requires_grad=True)\n",
    "    loss.backward()\n",
    "    # first_derivative = grad(scalar_out, data, create_graph=True, allow_unused=True)[0]\n",
    "    # second_derivative = grad(first_derivative, data, allow_unused=True)[0]\n",
    "    # print(second_derivative)\n",
    "    first_derivative = data.grad\n",
    "    first_derivative = torch.tensor(first_derivative, requires_grad=True)\n",
    "    print(first_derivative.shape)\n",
    "    second_derivative = first_derivative.grad\n",
    "    print(second_derivative)\n",
    "    \n",
    "    # print(nth_derivative(scalar_out, data, 2))\n",
    "    # print(nth_derivative(output, data, 2))\n",
    "\n",
    "    optimizer.step()\n",
    "    if batch_idx % log_interval == 0:\n",
    "      print('Train Epoch: {} [{}/{} ({:.0f}%)]\\tLoss: {:.6f}'.format(\n",
    "        epoch, batch_idx * len(data), len(trainloader.dataset),\n",
    "        100. * batch_idx / len(trainloader), loss.item()))\n",
    "      train_losses.append(loss.item())\n",
    "      train_counter.append(\n",
    "         (batch_idx*64) + ((epoch-1)*len(trainloader.dataset)))\n",
    "      # torch.save(network.state_dict(), '/results/model.pth')\n",
    "      # torch.save(optimizer.state_dict(), '/results/optimizer.pth')"
   ]
  },
  {
   "cell_type": "code",
   "execution_count": 37,
   "metadata": {},
   "outputs": [],
   "source": [
    "def test():\n",
    "  network.eval()\n",
    "  test_loss = 0\n",
    "  correct = 0\n",
    "  with torch.no_grad():\n",
    "    for data, target in valloader:\n",
    "      output = network(data)\n",
    "      test_loss += F.nll_loss(output, target, size_average=False).item()\n",
    "      pred = output.data.max(1, keepdim=True)[1]\n",
    "      correct += pred.eq(target.data.view_as(pred)).sum()\n",
    "  test_loss /= len(valloader.dataset)\n",
    "  test_losses.append(test_loss)\n",
    "  print('\\nTest set: Avg. loss: {:.4f}, Accuracy: {}/{} ({:.0f}%)\\n'.format(\n",
    "    test_loss, correct, len(valloader.dataset),\n",
    "    100. * correct / len(valloader.dataset)))"
   ]
  },
  {
   "cell_type": "code",
   "execution_count": 114,
   "metadata": {},
   "outputs": [
    {
     "name": "stderr",
     "output_type": "stream",
     "text": [
      "/tmp/ipykernel_16001/161431047.py:17: UserWarning: Implicit dimension choice for log_softmax has been deprecated. Change the call to include dim=X as an argument.\n",
      "  return F.log_softmax(x)\n"
     ]
    },
    {
     "name": "stdout",
     "output_type": "stream",
     "text": [
      "\n",
      "Test set: Avg. loss: 0.2596, Accuracy: 9331/10000 (93%)\n",
      "\n",
      "torch.Size([64, 1, 28, 28])\n",
      "None\n",
      "Train Epoch: 1 [0/60000 (0%)]\tLoss: 0.577593\n",
      "torch.Size([64, 1, 28, 28])\n",
      "None\n"
     ]
    },
    {
     "name": "stderr",
     "output_type": "stream",
     "text": [
      "/tmp/ipykernel_16001/2152249556.py:25: UserWarning: To copy construct from a tensor, it is recommended to use sourceTensor.clone().detach() or sourceTensor.clone().detach().requires_grad_(True), rather than torch.tensor(sourceTensor).\n",
      "  first_derivative = torch.tensor(first_derivative, requires_grad=True)\n"
     ]
    },
    {
     "name": "stdout",
     "output_type": "stream",
     "text": [
      "torch.Size([64, 1, 28, 28])\n",
      "None\n",
      "torch.Size([64, 1, 28, 28])\n",
      "None\n",
      "torch.Size([64, 1, 28, 28])\n",
      "None\n",
      "torch.Size([64, 1, 28, 28])\n",
      "None\n",
      "torch.Size([64, 1, 28, 28])\n",
      "None\n",
      "torch.Size([64, 1, 28, 28])\n",
      "None\n",
      "torch.Size([64, 1, 28, 28])\n",
      "None\n",
      "torch.Size([64, 1, 28, 28])\n",
      "None\n",
      "torch.Size([64, 1, 28, 28])\n",
      "None\n",
      "torch.Size([64, 1, 28, 28])\n",
      "None\n",
      "torch.Size([64, 1, 28, 28])\n",
      "None\n",
      "torch.Size([64, 1, 28, 28])\n",
      "None\n",
      "torch.Size([64, 1, 28, 28])\n",
      "None\n",
      "torch.Size([64, 1, 28, 28])\n",
      "None\n",
      "torch.Size([64, 1, 28, 28])\n",
      "None\n",
      "torch.Size([64, 1, 28, 28])\n",
      "None\n",
      "torch.Size([64, 1, 28, 28])\n",
      "None\n",
      "torch.Size([64, 1, 28, 28])\n",
      "None\n",
      "torch.Size([64, 1, 28, 28])\n",
      "None\n",
      "torch.Size([64, 1, 28, 28])\n",
      "None\n",
      "torch.Size([64, 1, 28, 28])\n",
      "None\n",
      "torch.Size([64, 1, 28, 28])\n",
      "None\n",
      "torch.Size([64, 1, 28, 28])\n",
      "None\n",
      "torch.Size([64, 1, 28, 28])\n",
      "None\n",
      "torch.Size([64, 1, 28, 28])\n",
      "None\n",
      "torch.Size([64, 1, 28, 28])\n",
      "None\n",
      "torch.Size([64, 1, 28, 28])\n",
      "None\n",
      "torch.Size([64, 1, 28, 28])\n",
      "None\n",
      "torch.Size([64, 1, 28, 28])\n",
      "None\n",
      "torch.Size([64, 1, 28, 28])\n",
      "None\n",
      "torch.Size([64, 1, 28, 28])\n",
      "None\n",
      "torch.Size([64, 1, 28, 28])\n",
      "None\n",
      "torch.Size([64, 1, 28, 28])\n",
      "None\n",
      "torch.Size([64, 1, 28, 28])\n",
      "None\n",
      "torch.Size([64, 1, 28, 28])\n",
      "None\n",
      "torch.Size([64, 1, 28, 28])\n",
      "None\n",
      "torch.Size([64, 1, 28, 28])\n",
      "None\n",
      "torch.Size([64, 1, 28, 28])\n",
      "None\n",
      "torch.Size([64, 1, 28, 28])\n",
      "None\n",
      "torch.Size([64, 1, 28, 28])\n",
      "None\n",
      "torch.Size([64, 1, 28, 28])\n",
      "None\n",
      "torch.Size([64, 1, 28, 28])\n",
      "None\n",
      "torch.Size([64, 1, 28, 28])\n",
      "None\n",
      "torch.Size([64, 1, 28, 28])\n",
      "None\n",
      "torch.Size([64, 1, 28, 28])\n",
      "None\n",
      "torch.Size([64, 1, 28, 28])\n",
      "None\n",
      "torch.Size([64, 1, 28, 28])\n",
      "None\n",
      "torch.Size([64, 1, 28, 28])\n",
      "None\n",
      "torch.Size([64, 1, 28, 28])\n",
      "None\n",
      "torch.Size([64, 1, 28, 28])\n",
      "None\n",
      "torch.Size([64, 1, 28, 28])\n",
      "None\n",
      "torch.Size([64, 1, 28, 28])\n",
      "None\n",
      "torch.Size([64, 1, 28, 28])\n",
      "None\n",
      "torch.Size([64, 1, 28, 28])\n",
      "None\n",
      "torch.Size([64, 1, 28, 28])\n",
      "None\n",
      "torch.Size([64, 1, 28, 28])\n",
      "None\n",
      "torch.Size([64, 1, 28, 28])\n",
      "None\n",
      "torch.Size([64, 1, 28, 28])\n",
      "None\n",
      "torch.Size([64, 1, 28, 28])\n",
      "None\n",
      "torch.Size([64, 1, 28, 28])\n",
      "None\n",
      "torch.Size([64, 1, 28, 28])\n",
      "None\n",
      "torch.Size([64, 1, 28, 28])\n",
      "None\n",
      "torch.Size([64, 1, 28, 28])\n",
      "None\n",
      "torch.Size([64, 1, 28, 28])\n",
      "None\n",
      "torch.Size([64, 1, 28, 28])\n",
      "None\n",
      "torch.Size([64, 1, 28, 28])\n",
      "None\n",
      "torch.Size([64, 1, 28, 28])\n",
      "None\n",
      "torch.Size([64, 1, 28, 28])\n",
      "None\n",
      "torch.Size([64, 1, 28, 28])\n",
      "None\n",
      "torch.Size([64, 1, 28, 28])\n",
      "None\n",
      "torch.Size([64, 1, 28, 28])\n",
      "None\n",
      "torch.Size([64, 1, 28, 28])\n",
      "None\n",
      "torch.Size([64, 1, 28, 28])\n",
      "None\n",
      "torch.Size([64, 1, 28, 28])\n",
      "None\n",
      "torch.Size([64, 1, 28, 28])\n",
      "None\n",
      "torch.Size([64, 1, 28, 28])\n",
      "None\n",
      "torch.Size([64, 1, 28, 28])\n",
      "None\n",
      "torch.Size([64, 1, 28, 28])\n",
      "None\n",
      "torch.Size([64, 1, 28, 28])\n",
      "None\n",
      "torch.Size([64, 1, 28, 28])\n",
      "None\n",
      "torch.Size([64, 1, 28, 28])\n",
      "None\n",
      "torch.Size([64, 1, 28, 28])\n",
      "None\n",
      "torch.Size([64, 1, 28, 28])\n",
      "None\n",
      "torch.Size([64, 1, 28, 28])\n",
      "None\n",
      "torch.Size([64, 1, 28, 28])\n",
      "None\n",
      "torch.Size([64, 1, 28, 28])\n",
      "None\n",
      "torch.Size([64, 1, 28, 28])\n",
      "None\n",
      "torch.Size([64, 1, 28, 28])\n",
      "None\n",
      "torch.Size([64, 1, 28, 28])\n",
      "None\n",
      "torch.Size([64, 1, 28, 28])\n",
      "None\n",
      "torch.Size([64, 1, 28, 28])\n",
      "None\n",
      "torch.Size([64, 1, 28, 28])\n",
      "None\n",
      "torch.Size([64, 1, 28, 28])\n",
      "None\n",
      "torch.Size([64, 1, 28, 28])\n",
      "None\n",
      "torch.Size([64, 1, 28, 28])\n",
      "None\n",
      "torch.Size([64, 1, 28, 28])\n",
      "None\n",
      "torch.Size([64, 1, 28, 28])\n",
      "None\n",
      "torch.Size([64, 1, 28, 28])\n",
      "None\n",
      "torch.Size([64, 1, 28, 28])\n",
      "None\n",
      "torch.Size([64, 1, 28, 28])\n",
      "None\n",
      "torch.Size([64, 1, 28, 28])\n",
      "None\n",
      "torch.Size([64, 1, 28, 28])\n",
      "None\n",
      "torch.Size([64, 1, 28, 28])\n",
      "None\n",
      "torch.Size([64, 1, 28, 28])\n",
      "None\n",
      "torch.Size([64, 1, 28, 28])\n",
      "None\n",
      "torch.Size([64, 1, 28, 28])\n",
      "None\n",
      "torch.Size([64, 1, 28, 28])\n",
      "None\n",
      "torch.Size([64, 1, 28, 28])\n",
      "None\n",
      "torch.Size([64, 1, 28, 28])\n",
      "None\n",
      "torch.Size([64, 1, 28, 28])\n",
      "None\n",
      "torch.Size([64, 1, 28, 28])\n",
      "None\n",
      "torch.Size([64, 1, 28, 28])\n",
      "None\n",
      "torch.Size([64, 1, 28, 28])\n",
      "None\n",
      "torch.Size([64, 1, 28, 28])\n",
      "None\n",
      "torch.Size([64, 1, 28, 28])\n",
      "None\n",
      "torch.Size([64, 1, 28, 28])\n",
      "None\n",
      "torch.Size([64, 1, 28, 28])\n",
      "None\n",
      "torch.Size([64, 1, 28, 28])\n",
      "None\n",
      "torch.Size([64, 1, 28, 28])\n",
      "None\n",
      "torch.Size([64, 1, 28, 28])\n",
      "None\n",
      "torch.Size([64, 1, 28, 28])\n",
      "None\n",
      "torch.Size([64, 1, 28, 28])\n",
      "None\n",
      "torch.Size([64, 1, 28, 28])\n",
      "None\n",
      "torch.Size([64, 1, 28, 28])\n",
      "None\n",
      "torch.Size([64, 1, 28, 28])\n",
      "None\n",
      "torch.Size([64, 1, 28, 28])\n",
      "None\n",
      "torch.Size([64, 1, 28, 28])\n",
      "None\n",
      "torch.Size([64, 1, 28, 28])\n",
      "None\n",
      "torch.Size([64, 1, 28, 28])\n",
      "None\n",
      "torch.Size([64, 1, 28, 28])\n",
      "None\n",
      "torch.Size([64, 1, 28, 28])\n",
      "None\n"
     ]
    },
    {
     "ename": "KeyboardInterrupt",
     "evalue": "",
     "output_type": "error",
     "traceback": [
      "\u001b[0;31m---------------------------------------------------------------------------\u001b[0m",
      "\u001b[0;31mKeyboardInterrupt\u001b[0m                         Traceback (most recent call last)",
      "\u001b[1;32m/mnt/d/Users/tianyueli/cyy/DNN_mnist.ipynb Cell 13'\u001b[0m in \u001b[0;36m<cell line: 2>\u001b[0;34m()\u001b[0m\n\u001b[1;32m      <a href='vscode-notebook-cell://wsl%2Bubuntu/mnt/d/Users/tianyueli/cyy/DNN_mnist.ipynb#ch0000012vscode-remote?line=0'>1</a>\u001b[0m test()\n\u001b[1;32m      <a href='vscode-notebook-cell://wsl%2Bubuntu/mnt/d/Users/tianyueli/cyy/DNN_mnist.ipynb#ch0000012vscode-remote?line=1'>2</a>\u001b[0m \u001b[39mfor\u001b[39;00m epoch \u001b[39min\u001b[39;00m \u001b[39mrange\u001b[39m(\u001b[39m1\u001b[39m, n_epochs \u001b[39m+\u001b[39m \u001b[39m1\u001b[39m):\n\u001b[0;32m----> <a href='vscode-notebook-cell://wsl%2Bubuntu/mnt/d/Users/tianyueli/cyy/DNN_mnist.ipynb#ch0000012vscode-remote?line=2'>3</a>\u001b[0m   train(epoch)\n\u001b[1;32m      <a href='vscode-notebook-cell://wsl%2Bubuntu/mnt/d/Users/tianyueli/cyy/DNN_mnist.ipynb#ch0000012vscode-remote?line=3'>4</a>\u001b[0m   test()\n",
      "\u001b[1;32m/mnt/d/Users/tianyueli/cyy/DNN_mnist.ipynb Cell 11'\u001b[0m in \u001b[0;36mtrain\u001b[0;34m(epoch)\u001b[0m\n\u001b[1;32m      <a href='vscode-notebook-cell://wsl%2Bubuntu/mnt/d/Users/tianyueli/cyy/DNN_mnist.ipynb#ch0000010vscode-remote?line=2'>3</a>\u001b[0m \u001b[39mdef\u001b[39;00m \u001b[39mtrain\u001b[39m(epoch):\n\u001b[1;32m      <a href='vscode-notebook-cell://wsl%2Bubuntu/mnt/d/Users/tianyueli/cyy/DNN_mnist.ipynb#ch0000010vscode-remote?line=3'>4</a>\u001b[0m   network\u001b[39m.\u001b[39mtrain()\n\u001b[0;32m----> <a href='vscode-notebook-cell://wsl%2Bubuntu/mnt/d/Users/tianyueli/cyy/DNN_mnist.ipynb#ch0000010vscode-remote?line=4'>5</a>\u001b[0m   \u001b[39mfor\u001b[39;00m batch_idx, (data, target) \u001b[39min\u001b[39;00m \u001b[39menumerate\u001b[39m(trainloader):\n\u001b[1;32m      <a href='vscode-notebook-cell://wsl%2Bubuntu/mnt/d/Users/tianyueli/cyy/DNN_mnist.ipynb#ch0000010vscode-remote?line=5'>6</a>\u001b[0m     data\u001b[39m.\u001b[39mrequires_grad_(\u001b[39mTrue\u001b[39;00m)\n\u001b[1;32m      <a href='vscode-notebook-cell://wsl%2Bubuntu/mnt/d/Users/tianyueli/cyy/DNN_mnist.ipynb#ch0000010vscode-remote?line=7'>8</a>\u001b[0m     optimizer\u001b[39m.\u001b[39mzero_grad()\n",
      "File \u001b[0;32m~/anaconda3/envs/tftorch/lib/python3.9/site-packages/torch/utils/data/dataloader.py:530\u001b[0m, in \u001b[0;36m_BaseDataLoaderIter.__next__\u001b[0;34m(self)\u001b[0m\n\u001b[1;32m    528\u001b[0m \u001b[39mif\u001b[39;00m \u001b[39mself\u001b[39m\u001b[39m.\u001b[39m_sampler_iter \u001b[39mis\u001b[39;00m \u001b[39mNone\u001b[39;00m:\n\u001b[1;32m    529\u001b[0m     \u001b[39mself\u001b[39m\u001b[39m.\u001b[39m_reset()\n\u001b[0;32m--> 530\u001b[0m data \u001b[39m=\u001b[39m \u001b[39mself\u001b[39;49m\u001b[39m.\u001b[39;49m_next_data()\n\u001b[1;32m    531\u001b[0m \u001b[39mself\u001b[39m\u001b[39m.\u001b[39m_num_yielded \u001b[39m+\u001b[39m\u001b[39m=\u001b[39m \u001b[39m1\u001b[39m\n\u001b[1;32m    532\u001b[0m \u001b[39mif\u001b[39;00m \u001b[39mself\u001b[39m\u001b[39m.\u001b[39m_dataset_kind \u001b[39m==\u001b[39m _DatasetKind\u001b[39m.\u001b[39mIterable \u001b[39mand\u001b[39;00m \\\n\u001b[1;32m    533\u001b[0m         \u001b[39mself\u001b[39m\u001b[39m.\u001b[39m_IterableDataset_len_called \u001b[39mis\u001b[39;00m \u001b[39mnot\u001b[39;00m \u001b[39mNone\u001b[39;00m \u001b[39mand\u001b[39;00m \\\n\u001b[1;32m    534\u001b[0m         \u001b[39mself\u001b[39m\u001b[39m.\u001b[39m_num_yielded \u001b[39m>\u001b[39m \u001b[39mself\u001b[39m\u001b[39m.\u001b[39m_IterableDataset_len_called:\n",
      "File \u001b[0;32m~/anaconda3/envs/tftorch/lib/python3.9/site-packages/torch/utils/data/dataloader.py:570\u001b[0m, in \u001b[0;36m_SingleProcessDataLoaderIter._next_data\u001b[0;34m(self)\u001b[0m\n\u001b[1;32m    568\u001b[0m \u001b[39mdef\u001b[39;00m \u001b[39m_next_data\u001b[39m(\u001b[39mself\u001b[39m):\n\u001b[1;32m    569\u001b[0m     index \u001b[39m=\u001b[39m \u001b[39mself\u001b[39m\u001b[39m.\u001b[39m_next_index()  \u001b[39m# may raise StopIteration\u001b[39;00m\n\u001b[0;32m--> 570\u001b[0m     data \u001b[39m=\u001b[39m \u001b[39mself\u001b[39;49m\u001b[39m.\u001b[39;49m_dataset_fetcher\u001b[39m.\u001b[39;49mfetch(index)  \u001b[39m# may raise StopIteration\u001b[39;00m\n\u001b[1;32m    571\u001b[0m     \u001b[39mif\u001b[39;00m \u001b[39mself\u001b[39m\u001b[39m.\u001b[39m_pin_memory:\n\u001b[1;32m    572\u001b[0m         data \u001b[39m=\u001b[39m _utils\u001b[39m.\u001b[39mpin_memory\u001b[39m.\u001b[39mpin_memory(data)\n",
      "File \u001b[0;32m~/anaconda3/envs/tftorch/lib/python3.9/site-packages/torch/utils/data/_utils/fetch.py:52\u001b[0m, in \u001b[0;36m_MapDatasetFetcher.fetch\u001b[0;34m(self, possibly_batched_index)\u001b[0m\n\u001b[1;32m     50\u001b[0m \u001b[39melse\u001b[39;00m:\n\u001b[1;32m     51\u001b[0m     data \u001b[39m=\u001b[39m \u001b[39mself\u001b[39m\u001b[39m.\u001b[39mdataset[possibly_batched_index]\n\u001b[0;32m---> 52\u001b[0m \u001b[39mreturn\u001b[39;00m \u001b[39mself\u001b[39;49m\u001b[39m.\u001b[39;49mcollate_fn(data)\n",
      "File \u001b[0;32m~/anaconda3/envs/tftorch/lib/python3.9/site-packages/torch/utils/data/_utils/collate.py:172\u001b[0m, in \u001b[0;36mdefault_collate\u001b[0;34m(batch)\u001b[0m\n\u001b[1;32m    169\u001b[0m transposed \u001b[39m=\u001b[39m \u001b[39mlist\u001b[39m(\u001b[39mzip\u001b[39m(\u001b[39m*\u001b[39mbatch))  \u001b[39m# It may be accessed twice, so we use a list.\u001b[39;00m\n\u001b[1;32m    171\u001b[0m \u001b[39mif\u001b[39;00m \u001b[39misinstance\u001b[39m(elem, \u001b[39mtuple\u001b[39m):\n\u001b[0;32m--> 172\u001b[0m     \u001b[39mreturn\u001b[39;00m [default_collate(samples) \u001b[39mfor\u001b[39;00m samples \u001b[39min\u001b[39;00m transposed]  \u001b[39m# Backwards compatibility.\u001b[39;00m\n\u001b[1;32m    173\u001b[0m \u001b[39melse\u001b[39;00m:\n\u001b[1;32m    174\u001b[0m     \u001b[39mtry\u001b[39;00m:\n",
      "File \u001b[0;32m~/anaconda3/envs/tftorch/lib/python3.9/site-packages/torch/utils/data/_utils/collate.py:172\u001b[0m, in \u001b[0;36m<listcomp>\u001b[0;34m(.0)\u001b[0m\n\u001b[1;32m    169\u001b[0m transposed \u001b[39m=\u001b[39m \u001b[39mlist\u001b[39m(\u001b[39mzip\u001b[39m(\u001b[39m*\u001b[39mbatch))  \u001b[39m# It may be accessed twice, so we use a list.\u001b[39;00m\n\u001b[1;32m    171\u001b[0m \u001b[39mif\u001b[39;00m \u001b[39misinstance\u001b[39m(elem, \u001b[39mtuple\u001b[39m):\n\u001b[0;32m--> 172\u001b[0m     \u001b[39mreturn\u001b[39;00m [default_collate(samples) \u001b[39mfor\u001b[39;00m samples \u001b[39min\u001b[39;00m transposed]  \u001b[39m# Backwards compatibility.\u001b[39;00m\n\u001b[1;32m    173\u001b[0m \u001b[39melse\u001b[39;00m:\n\u001b[1;32m    174\u001b[0m     \u001b[39mtry\u001b[39;00m:\n",
      "File \u001b[0;32m~/anaconda3/envs/tftorch/lib/python3.9/site-packages/torch/utils/data/_utils/collate.py:138\u001b[0m, in \u001b[0;36mdefault_collate\u001b[0;34m(batch)\u001b[0m\n\u001b[1;32m    136\u001b[0m         storage \u001b[39m=\u001b[39m elem\u001b[39m.\u001b[39mstorage()\u001b[39m.\u001b[39m_new_shared(numel)\n\u001b[1;32m    137\u001b[0m         out \u001b[39m=\u001b[39m elem\u001b[39m.\u001b[39mnew(storage)\u001b[39m.\u001b[39mresize_(\u001b[39mlen\u001b[39m(batch), \u001b[39m*\u001b[39m\u001b[39mlist\u001b[39m(elem\u001b[39m.\u001b[39msize()))\n\u001b[0;32m--> 138\u001b[0m     \u001b[39mreturn\u001b[39;00m torch\u001b[39m.\u001b[39;49mstack(batch, \u001b[39m0\u001b[39;49m, out\u001b[39m=\u001b[39;49mout)\n\u001b[1;32m    139\u001b[0m \u001b[39melif\u001b[39;00m elem_type\u001b[39m.\u001b[39m\u001b[39m__module__\u001b[39m \u001b[39m==\u001b[39m \u001b[39m'\u001b[39m\u001b[39mnumpy\u001b[39m\u001b[39m'\u001b[39m \u001b[39mand\u001b[39;00m elem_type\u001b[39m.\u001b[39m\u001b[39m__name__\u001b[39m \u001b[39m!=\u001b[39m \u001b[39m'\u001b[39m\u001b[39mstr_\u001b[39m\u001b[39m'\u001b[39m \\\n\u001b[1;32m    140\u001b[0m         \u001b[39mand\u001b[39;00m elem_type\u001b[39m.\u001b[39m\u001b[39m__name__\u001b[39m \u001b[39m!=\u001b[39m \u001b[39m'\u001b[39m\u001b[39mstring_\u001b[39m\u001b[39m'\u001b[39m:\n\u001b[1;32m    141\u001b[0m     \u001b[39mif\u001b[39;00m elem_type\u001b[39m.\u001b[39m\u001b[39m__name__\u001b[39m \u001b[39m==\u001b[39m \u001b[39m'\u001b[39m\u001b[39mndarray\u001b[39m\u001b[39m'\u001b[39m \u001b[39mor\u001b[39;00m elem_type\u001b[39m.\u001b[39m\u001b[39m__name__\u001b[39m \u001b[39m==\u001b[39m \u001b[39m'\u001b[39m\u001b[39mmemmap\u001b[39m\u001b[39m'\u001b[39m:\n\u001b[1;32m    142\u001b[0m         \u001b[39m# array of string classes and object\u001b[39;00m\n",
      "\u001b[0;31mKeyboardInterrupt\u001b[0m: "
     ]
    }
   ],
   "source": [
    "test()\n",
    "for epoch in range(1, n_epochs + 1):\n",
    "  train(epoch)\n",
    "  test()"
   ]
  },
  {
   "cell_type": "markdown",
   "metadata": {},
   "source": []
  },
  {
   "cell_type": "code",
   "execution_count": null,
   "metadata": {},
   "outputs": [],
   "source": [
    "def scores(loader):\n",
    "    network.eval()\n",
    "    # outputs = [] \n",
    "    test_loss = 0\n",
    "    correct = 0\n",
    "    with torch.no_grad():\n",
    "        for data, target in loader:\n",
    "            output = network(data)\n",
    "            # outputs.append(output)\n",
    "            test_loss += F.nll_loss(output, target, size_average=False).item()\n",
    "            pred = output.data.max(1, keepdim=True)[1]\n",
    "            correct += pred.eq(target.data.view_as(pred)).sum()\n",
    "    test_loss /= len(loader.dataset)\n",
    "    test_losses.append(test_loss)\n",
    "    print('\\nTest set: Avg. loss: {:.4f}, Accuracy: {}/{} ({:.0f}%)\\n'.format(\n",
    "        test_loss, correct, len(loader.dataset),\n",
    "        100. * correct / len(loader.dataset)))\n",
    "    return output"
   ]
  },
  {
   "cell_type": "code",
   "execution_count": null,
   "metadata": {},
   "outputs": [],
   "source": [
    "trloader = torch.utils.data.DataLoader(trainset, batch_size=60000, shuffle=False)\n",
    "tsloader = torch.utils.data.DataLoader(valset, batch_size=10000, shuffle=False)"
   ]
  },
  {
   "cell_type": "code",
   "execution_count": null,
   "metadata": {},
   "outputs": [
    {
     "name": "stderr",
     "output_type": "stream",
     "text": [
      "/tmp/ipykernel_964/161431047.py:17: UserWarning: Implicit dimension choice for log_softmax has been deprecated. Change the call to include dim=X as an argument.\n",
      "  return F.log_softmax(x)\n"
     ]
    },
    {
     "name": "stdout",
     "output_type": "stream",
     "text": [
      "\n",
      "Test set: Avg. loss: 0.1178, Accuracy: 57779/60000 (96%)\n",
      "\n",
      "\n",
      "Test set: Avg. loss: 0.1224, Accuracy: 9613/10000 (96%)\n",
      "\n"
     ]
    }
   ],
   "source": [
    "train_score = scores(trloader)\n",
    "test_score = scores(tsloader)"
   ]
  },
  {
   "cell_type": "code",
   "execution_count": null,
   "metadata": {},
   "outputs": [
    {
     "data": {
      "text/plain": [
       "torch.Size([60000, 10])"
      ]
     },
     "execution_count": 98,
     "metadata": {},
     "output_type": "execute_result"
    }
   ],
   "source": [
    "train_score.shape"
   ]
  },
  {
   "cell_type": "code",
   "execution_count": null,
   "metadata": {},
   "outputs": [],
   "source": [
    "torch.save(train_score, 'train_score.pt')\n",
    "torch.save(test_score, 'test_score.pt')"
   ]
  },
  {
   "cell_type": "code",
   "execution_count": null,
   "metadata": {},
   "outputs": [],
   "source": [
    "train_score = torch.load('train_score.pt')\n",
    "train_score.shape"
   ]
  },
  {
   "cell_type": "code",
   "execution_count": 12,
   "metadata": {},
   "outputs": [
    {
     "data": {
      "text/plain": [
       "(200,)"
      ]
     },
     "execution_count": 12,
     "metadata": {},
     "output_type": "execute_result"
    }
   ],
   "source": [
    "y_tr[0:200].shape"
   ]
  },
  {
   "cell_type": "code",
   "execution_count": 14,
   "metadata": {},
   "outputs": [
    {
     "data": {
      "image/png": "[encoded data removed]",
      "text/plain": [
       "<Figure size 432x288 with 1 Axes>"
      ]
     },
     "metadata": {
      "needs_background": "light"
     },
     "output_type": "display_data"
    }
   ],
   "source": [
    "plt.scatter(y_tr[0:1000], train_score[0:1000, 0])\n",
    "plt.show()\n",
    "# torch.scatter(train_score[0:200, 0], index = torch.from_numpy(y_tr[0:200]))"
   ]
  }
 ],
 "metadata": {
  "kernelspec": {
   "display_name": "Python 3.9.13 64-bit (windows store)",
   "language": "python",
   "name": "python3"
  },
  "language_info": {
   "codemirror_mode": {
    "name": "ipython",
    "version": 3
   },
   "file_extension": ".py",
   "mimetype": "text/x-python",
   "name": "python",
   "nbconvert_exporter": "python",
   "pygments_lexer": "ipython3",
   "version": "3.9.13"
  },
  "orig_nbformat": 4,
  "vscode": {
   "interpreter": {
    "hash": "167f855b06db51e9095a29fe31162bca6945ad2d479365fff88adf921f75ee7f"
   }
  }
 },
 "nbformat": 4,
 "nbformat_minor": 2
}
