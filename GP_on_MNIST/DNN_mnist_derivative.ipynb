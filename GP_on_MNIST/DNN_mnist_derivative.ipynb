{
 "cells": [
  {
   "cell_type": "code",
   "execution_count": 148,
   "metadata": {},
   "outputs": [],
   "source": [
    "import numpy as np\n",
    "import torch\n",
    "import torchvision\n",
    "import matplotlib.pyplot as plt\n",
    "from time import time\n",
    "from torchvision import datasets, transforms\n",
    "from torch import nn, optim\n",
    "from tensorflow import keras\n",
    "from torch.utils.data import Dataset\n",
    "import torch.nn.functional as F"
   ]
  },
  {
   "cell_type": "code",
   "execution_count": 149,
   "metadata": {},
   "outputs": [],
   "source": [
    "class MNISTDataset(Dataset):\n",
    "    def __init__(self, image, label):\n",
    "        self.image = torch.tensor(image, dtype = torch.float32)\n",
    "        self.label = label\n",
    "\n",
    "    def __len__(self): return len(self.label)\n",
    "\n",
    "    def __getitem__(self, idx):\n",
    "        image_ = self.image[idx]\n",
    "        image_ = image_[None, :]\n",
    "        label_ = self.label[idx]\n",
    "        return image_, label_\n",
    "        "
   ]
  },
  {
   "cell_type": "code",
   "execution_count": 150,
   "metadata": {},
   "outputs": [],
   "source": [
    "(x_tr, y_tr), (x_ts, y_ts) = keras.datasets.mnist.load_data()\n",
    "x_tr, y_tr = x_tr[0:6400], y_tr[0:6400]\n",
    "x_ts, y_ts = x_ts[0:640], y_ts[0:640]"
   ]
  },
  {
   "cell_type": "code",
   "execution_count": 151,
   "metadata": {},
   "outputs": [],
   "source": [
    "\n",
    "trainset = MNISTDataset(x_tr, y_tr)\n",
    "valset = MNISTDataset(x_ts, y_ts)"
   ]
  },
  {
   "cell_type": "code",
   "execution_count": 152,
   "metadata": {},
   "outputs": [],
   "source": [
    "trainloader = torch.utils.data.DataLoader(trainset, batch_size=64, shuffle=False)\n",
    "valloader = torch.utils.data.DataLoader(valset, batch_size=64, shuffle=False)"
   ]
  },
  {
   "cell_type": "code",
   "execution_count": 153,
   "metadata": {},
   "outputs": [
    {
     "name": "stdout",
     "output_type": "stream",
     "text": [
      "torch.Size([64, 1, 28, 28])\n",
      "torch.Size([64])\n"
     ]
    }
   ],
   "source": [
    "dataiter = iter(trainloader)\n",
    "images, labels = dataiter.next()\n",
    "\n",
    "print(images.shape)\n",
    "print(labels.shape)"
   ]
  },
  {
   "cell_type": "code",
   "execution_count": 154,
   "metadata": {},
   "outputs": [],
   "source": [
    "class Net(nn.Module):\n",
    "    def __init__(self):\n",
    "        super(Net, self).__init__()\n",
    "        self.conv1 = nn.Conv2d(1, 10, kernel_size=5)\n",
    "        self.conv2 = nn.Conv2d(10, 20, kernel_size=5)\n",
    "        self.conv2_drop = nn.Dropout2d()\n",
    "        self.fc1 = nn.Linear(320, 50)\n",
    "        self.fc2 = nn.Linear(50, 10)\n",
    "\n",
    "    def forward(self, x):\n",
    "        x = F.relu(F.max_pool2d(self.conv1(x), 2))\n",
    "        x = F.relu(F.max_pool2d(self.conv2_drop(self.conv2(x)), 2))\n",
    "        x = x.view(-1, 320)\n",
    "        x = F.relu(self.fc1(x))\n",
    "        x = F.dropout(x, training=self.training)\n",
    "        x = self.fc2(x)\n",
    "        return F.log_softmax(x)"
   ]
  },
  {
   "cell_type": "code",
   "execution_count": 155,
   "metadata": {},
   "outputs": [],
   "source": [
    "n_epochs = 3\n",
    "learning_rate = 0.01\n",
    "momentum = 0.5\n",
    "log_interval = 5"
   ]
  },
  {
   "cell_type": "code",
   "execution_count": 156,
   "metadata": {},
   "outputs": [],
   "source": [
    "network = Net()\n",
    "optimizer = optim.SGD(network.parameters(), lr=learning_rate,\n",
    "                      momentum=momentum)"
   ]
  },
  {
   "cell_type": "code",
   "execution_count": 157,
   "metadata": {},
   "outputs": [],
   "source": [
    "train_losses = []\n",
    "train_counter = []\n",
    "test_losses = []\n",
    "test_counter = [i*len(trainloader.dataset) for i in range(n_epochs + 1)]"
   ]
  },
  {
   "cell_type": "code",
   "execution_count": 158,
   "metadata": {},
   "outputs": [
    {
     "data": {
      "text/plain": [
       "9"
      ]
     },
     "execution_count": 158,
     "metadata": {},
     "output_type": "execute_result"
    }
   ],
   "source": [
    "y_tr[4]"
   ]
  },
  {
   "cell_type": "code",
   "execution_count": 159,
   "metadata": {},
   "outputs": [],
   "source": [
    "# from torch.autograd import grad\n",
    "\n",
    "# def nth_derivative(f, wrt, n):\n",
    "\n",
    "#     for i in range(n):\n",
    "\n",
    "#         grads = grad(f, wrt, create_graph=True)[0]\n",
    "#         f = grads.sum()\n",
    "\n",
    "#     return grads"
   ]
  },
  {
   "cell_type": "code",
   "execution_count": 160,
   "metadata": {},
   "outputs": [],
   "source": [
    "derivative = [[]]*10\n",
    "# new_derivative = []*10\n",
    "\n",
    "def train(epoch):\n",
    "  \n",
    "  i = 0\n",
    "  network.train()\n",
    "  for batch_idx, (data, target) in enumerate(trainloader):\n",
    "    data.requires_grad_(True)\n",
    "    \n",
    "    optimizer.zero_grad()\n",
    "    output = network(data)\n",
    "    # print(output.shape)\n",
    "    \n",
    "    loss = F.nll_loss(output, target)\n",
    "    loss.backward(retain_graph=True)\n",
    "    \n",
    "    first_derivative = data.grad\n",
    "    # print(first_derivative.shape) # 64*1*28*28\n",
    "    first_derivative = first_derivative.view(64, -1)\n",
    "    # print(first_derivative[1].shape) # 64, 784\n",
    "    \n",
    "    # print(i)  \n",
    "    for j in range(len(first_derivative)):\n",
    "        # print(len(first_derivative))\n",
    "        derivative[y_tr[i]].append(first_derivative[j])\n",
    "        i += 1\n",
    "    # print(i)  \n",
    "    \n",
    "      \n",
    "    loss_all = []\n",
    "    for j in range(10):\n",
    "        temp = torch.stack(derivative[j])\n",
    "        # print(temp.shape)\n",
    "        mean = torch.mean(temp, dim = 0)\n",
    "        # print(mean.shape)\n",
    "        # print(derivative[0][0].shape)\n",
    "        l = 0\n",
    "        for k in range(len(derivative[j])):\n",
    "            loss2 = torch.nn.MSELoss()\n",
    "            l += loss2(mean, derivative[j][k])\n",
    "        loss_all.append(l)\n",
    "    \n",
    "    # print(loss_all)\n",
    "    derivative_loss = 10*sum(loss_all)\n",
    "    loss += derivative_loss\n",
    "    loss.backward(retain_graph=True)\n",
    "\n",
    "    optimizer.step()\n",
    "    if batch_idx % log_interval == 0:\n",
    "      print(\"derivative loss:\", derivative_loss)\n",
    "      print('Train Epoch: {} [{}/{} ({:.0f}%)]\\tLoss: {:.6f}'.format(\n",
    "        epoch, batch_idx * len(data), len(trainloader.dataset),\n",
    "        100. * batch_idx / len(trainloader), loss.item()))\n",
    "      train_losses.append(loss.item())\n",
    "      train_counter.append(\n",
    "         (batch_idx*64) + ((epoch-1)*len(trainloader.dataset)))\n",
    "    \n",
    "    # derivative = new_derivative\n",
    "    # new_derivative = []*10"
   ]
  },
  {
   "cell_type": "code",
   "execution_count": 161,
   "metadata": {},
   "outputs": [],
   "source": [
    "def test():\n",
    "  network.eval()\n",
    "  test_loss = 0\n",
    "  correct = 0\n",
    "  with torch.no_grad():\n",
    "    for data, target in valloader:\n",
    "      output = network(data)\n",
    "      test_loss += F.nll_loss(output, target, size_average=False).item()\n",
    "      pred = output.data.max(1, keepdim=True)[1]\n",
    "      correct += pred.eq(target.data.view_as(pred)).sum()\n",
    "  test_loss /= len(valloader.dataset)\n",
    "  test_losses.append(test_loss)\n",
    "  print('\\nTest set: Avg. loss: {:.4f}, Accuracy: {}/{} ({:.0f}%)\\n'.format(\n",
    "    test_loss, correct, len(valloader.dataset),\n",
    "    100. * correct / len(valloader.dataset)))"
   ]
  },
  {
   "cell_type": "code",
   "execution_count": 162,
   "metadata": {},
   "outputs": [
    {
     "name": "stderr",
     "output_type": "stream",
     "text": [
      "/tmp/ipykernel_790/161431047.py:17: UserWarning: Implicit dimension choice for log_softmax has been deprecated. Change the call to include dim=X as an argument.\n",
      "  return F.log_softmax(x)\n"
     ]
    },
    {
     "name": "stdout",
     "output_type": "stream",
     "text": [
      "\n",
      "Test set: Avg. loss: 15.7158, Accuracy: 61/640 (10%)\n",
      "\n",
      "derivative loss: tensor(3.3339e-05)\n",
      "Train Epoch: 1 [0/6400 (0%)]\tLoss: 21.824171\n",
      "derivative loss: tensor(0.0012)\n",
      "Train Epoch: 1 [320/6400 (5%)]\tLoss: 2.293024\n",
      "derivative loss: tensor(0.0019)\n",
      "Train Epoch: 1 [640/6400 (10%)]\tLoss: 2.307087\n",
      "derivative loss: tensor(0.0029)\n",
      "Train Epoch: 1 [960/6400 (15%)]\tLoss: 2.220138\n",
      "derivative loss: tensor(0.0039)\n",
      "Train Epoch: 1 [1280/6400 (20%)]\tLoss: 2.237751\n",
      "derivative loss: tensor(0.0050)\n",
      "Train Epoch: 1 [1600/6400 (25%)]\tLoss: 2.133295\n",
      "derivative loss: tensor(0.0060)\n",
      "Train Epoch: 1 [1920/6400 (30%)]\tLoss: 1.990435\n",
      "derivative loss: tensor(0.0067)\n",
      "Train Epoch: 1 [2240/6400 (35%)]\tLoss: 1.894405\n",
      "derivative loss: tensor(0.0075)\n",
      "Train Epoch: 1 [2560/6400 (40%)]\tLoss: 1.819620\n",
      "derivative loss: tensor(0.0082)\n",
      "Train Epoch: 1 [2880/6400 (45%)]\tLoss: 1.787635\n",
      "derivative loss: tensor(0.0090)\n",
      "Train Epoch: 1 [3200/6400 (50%)]\tLoss: 1.546015\n",
      "derivative loss: tensor(0.0100)\n",
      "Train Epoch: 1 [3520/6400 (55%)]\tLoss: 1.634689\n",
      "derivative loss: tensor(0.0106)\n",
      "Train Epoch: 1 [3840/6400 (60%)]\tLoss: 1.375104\n",
      "derivative loss: tensor(0.0116)\n",
      "Train Epoch: 1 [4160/6400 (65%)]\tLoss: 1.356269\n",
      "derivative loss: tensor(0.0124)\n",
      "Train Epoch: 1 [4480/6400 (70%)]\tLoss: 1.566881\n",
      "derivative loss: tensor(0.0128)\n",
      "Train Epoch: 1 [4800/6400 (75%)]\tLoss: 1.398018\n",
      "derivative loss: tensor(0.0134)\n",
      "Train Epoch: 1 [5120/6400 (80%)]\tLoss: 1.708542\n",
      "derivative loss: tensor(0.0140)\n",
      "Train Epoch: 1 [5440/6400 (85%)]\tLoss: 1.370117\n",
      "derivative loss: tensor(0.0146)\n",
      "Train Epoch: 1 [5760/6400 (90%)]\tLoss: 1.425263\n",
      "derivative loss: tensor(0.0153)\n",
      "Train Epoch: 1 [6080/6400 (95%)]\tLoss: 1.148568\n",
      "\n",
      "Test set: Avg. loss: 0.8401, Accuracy: 491/640 (77%)\n",
      "\n",
      "derivative loss: tensor(0.0158)\n",
      "Train Epoch: 2 [0/6400 (0%)]\tLoss: 1.348220\n",
      "derivative loss: tensor(0.0161)\n",
      "Train Epoch: 2 [320/6400 (5%)]\tLoss: 1.195510\n",
      "derivative loss: tensor(0.0166)\n",
      "Train Epoch: 2 [640/6400 (10%)]\tLoss: 1.070712\n",
      "derivative loss: tensor(0.0173)\n",
      "Train Epoch: 2 [960/6400 (15%)]\tLoss: 1.230520\n",
      "derivative loss: tensor(0.0178)\n",
      "Train Epoch: 2 [1280/6400 (20%)]\tLoss: 1.135500\n",
      "derivative loss: tensor(0.0182)\n",
      "Train Epoch: 2 [1600/6400 (25%)]\tLoss: 0.924617\n",
      "derivative loss: tensor(0.0186)\n",
      "Train Epoch: 2 [1920/6400 (30%)]\tLoss: 1.121907\n",
      "derivative loss: tensor(0.0192)\n",
      "Train Epoch: 2 [2240/6400 (35%)]\tLoss: 1.101778\n",
      "derivative loss: tensor(0.0196)\n",
      "Train Epoch: 2 [2560/6400 (40%)]\tLoss: 0.810824\n",
      "derivative loss: tensor(0.0202)\n",
      "Train Epoch: 2 [2880/6400 (45%)]\tLoss: 0.992268\n",
      "derivative loss: tensor(0.0208)\n",
      "Train Epoch: 2 [3200/6400 (50%)]\tLoss: 0.935089\n",
      "derivative loss: tensor(0.0214)\n",
      "Train Epoch: 2 [3520/6400 (55%)]\tLoss: 1.285826\n",
      "derivative loss: tensor(0.0222)\n",
      "Train Epoch: 2 [3840/6400 (60%)]\tLoss: 0.778364\n",
      "derivative loss: tensor(0.0228)\n",
      "Train Epoch: 2 [4160/6400 (65%)]\tLoss: 1.178713\n",
      "derivative loss: tensor(0.0234)\n",
      "Train Epoch: 2 [4480/6400 (70%)]\tLoss: 1.057910\n",
      "derivative loss: tensor(0.0239)\n",
      "Train Epoch: 2 [4800/6400 (75%)]\tLoss: 1.019518\n",
      "derivative loss: tensor(0.0245)\n",
      "Train Epoch: 2 [5120/6400 (80%)]\tLoss: 1.363104\n",
      "derivative loss: tensor(0.0250)\n",
      "Train Epoch: 2 [5440/6400 (85%)]\tLoss: 0.622614\n",
      "derivative loss: tensor(0.0256)\n",
      "Train Epoch: 2 [5760/6400 (90%)]\tLoss: 1.274767\n",
      "derivative loss: tensor(0.0262)\n",
      "Train Epoch: 2 [6080/6400 (95%)]\tLoss: 1.117323\n",
      "\n",
      "Test set: Avg. loss: 0.5948, Accuracy: 534/640 (83%)\n",
      "\n",
      "derivative loss: tensor(0.0267)\n",
      "Train Epoch: 3 [0/6400 (0%)]\tLoss: 0.922570\n",
      "derivative loss: tensor(0.0272)\n",
      "Train Epoch: 3 [320/6400 (5%)]\tLoss: 0.696077\n",
      "derivative loss: tensor(0.0278)\n",
      "Train Epoch: 3 [640/6400 (10%)]\tLoss: 0.912916\n",
      "derivative loss: tensor(0.0283)\n",
      "Train Epoch: 3 [960/6400 (15%)]\tLoss: 1.028677\n",
      "derivative loss: tensor(0.0290)\n",
      "Train Epoch: 3 [1280/6400 (20%)]\tLoss: 0.977194\n",
      "derivative loss: tensor(0.0295)\n",
      "Train Epoch: 3 [1600/6400 (25%)]\tLoss: 0.951189\n",
      "derivative loss: tensor(0.0300)\n",
      "Train Epoch: 3 [1920/6400 (30%)]\tLoss: 0.962046\n",
      "derivative loss: tensor(0.0305)\n",
      "Train Epoch: 3 [2240/6400 (35%)]\tLoss: 0.822622\n",
      "derivative loss: tensor(0.0311)\n",
      "Train Epoch: 3 [2560/6400 (40%)]\tLoss: 0.834875\n",
      "derivative loss: tensor(0.0318)\n",
      "Train Epoch: 3 [2880/6400 (45%)]\tLoss: 0.987455\n",
      "derivative loss: tensor(0.0324)\n",
      "Train Epoch: 3 [3200/6400 (50%)]\tLoss: 1.170393\n",
      "derivative loss: tensor(0.0331)\n",
      "Train Epoch: 3 [3520/6400 (55%)]\tLoss: 0.909967\n",
      "derivative loss: tensor(0.0339)\n",
      "Train Epoch: 3 [3840/6400 (60%)]\tLoss: 0.797381\n",
      "derivative loss: tensor(0.0345)\n",
      "Train Epoch: 3 [4160/6400 (65%)]\tLoss: 0.875004\n",
      "derivative loss: tensor(0.0352)\n",
      "Train Epoch: 3 [4480/6400 (70%)]\tLoss: 0.858633\n",
      "derivative loss: tensor(0.0356)\n",
      "Train Epoch: 3 [4800/6400 (75%)]\tLoss: 1.079726\n",
      "derivative loss: tensor(0.0361)\n",
      "Train Epoch: 3 [5120/6400 (80%)]\tLoss: 1.134259\n",
      "derivative loss: tensor(0.0365)\n",
      "Train Epoch: 3 [5440/6400 (85%)]\tLoss: 0.800765\n",
      "derivative loss: tensor(0.0373)\n",
      "Train Epoch: 3 [5760/6400 (90%)]\tLoss: 0.914052\n",
      "derivative loss: tensor(0.0377)\n",
      "Train Epoch: 3 [6080/6400 (95%)]\tLoss: 0.838452\n",
      "\n",
      "Test set: Avg. loss: 0.4823, Accuracy: 561/640 (88%)\n",
      "\n"
     ]
    }
   ],
   "source": [
    "test()\n",
    "for epoch in range(1, n_epochs + 1):\n",
    "  train(epoch)\n",
    "  test()"
   ]
  },
  {
   "cell_type": "code",
   "execution_count": null,
   "metadata": {},
   "outputs": [],
   "source": [
    "def scores(loader):\n",
    "    network.eval()\n",
    "    # outputs = [] \n",
    "    test_loss = 0\n",
    "    correct = 0\n",
    "    with torch.no_grad():\n",
    "        for data, target in loader:\n",
    "            output = network(data)\n",
    "            # outputs.append(output)\n",
    "            test_loss += F.nll_loss(output, target, size_average=False).item()\n",
    "            pred = output.data.max(1, keepdim=True)[1]\n",
    "            correct += pred.eq(target.data.view_as(pred)).sum()\n",
    "    test_loss /= len(loader.dataset)\n",
    "    test_losses.append(test_loss)\n",
    "    print('\\nTest set: Avg. loss: {:.4f}, Accuracy: {}/{} ({:.0f}%)\\n'.format(\n",
    "        test_loss, correct, len(loader.dataset),\n",
    "        100. * correct / len(loader.dataset)))\n",
    "    return output"
   ]
  },
  {
   "cell_type": "code",
   "execution_count": 164,
   "metadata": {},
   "outputs": [],
   "source": [
    "trloader = torch.utils.data.DataLoader(trainset, batch_size=6400, shuffle=False)\n",
    "tsloader = torch.utils.data.DataLoader(valset, batch_size=640, shuffle=False)"
   ]
  },
  {
   "cell_type": "code",
   "execution_count": 165,
   "metadata": {},
   "outputs": [
    {
     "name": "stderr",
     "output_type": "stream",
     "text": [
      "/tmp/ipykernel_790/161431047.py:17: UserWarning: Implicit dimension choice for log_softmax has been deprecated. Change the call to include dim=X as an argument.\n",
      "  return F.log_softmax(x)\n"
     ]
    },
    {
     "name": "stdout",
     "output_type": "stream",
     "text": [
      "\n",
      "Test set: Avg. loss: 0.4051, Accuracy: 5745/6400 (90%)\n",
      "\n",
      "\n",
      "Test set: Avg. loss: 0.4823, Accuracy: 561/640 (88%)\n",
      "\n"
     ]
    }
   ],
   "source": [
    "train_score = scores(trloader)\n",
    "test_score = scores(tsloader)"
   ]
  },
  {
   "cell_type": "code",
   "execution_count": 166,
   "metadata": {},
   "outputs": [
    {
     "data": {
      "text/plain": [
       "torch.Size([6400, 10])"
      ]
     },
     "execution_count": 166,
     "metadata": {},
     "output_type": "execute_result"
    }
   ],
   "source": [
    "train_score.shape"
   ]
  },
  {
   "cell_type": "code",
   "execution_count": 167,
   "metadata": {},
   "outputs": [],
   "source": [
    "torch.save(train_score, 'train_score_1_1.pt')\n",
    "torch.save(test_score, 'test_score_1_1.pt')"
   ]
  },
  {
   "cell_type": "code",
   "execution_count": 168,
   "metadata": {},
   "outputs": [
    {
     "data": {
      "text/plain": [
       "torch.Size([60000, 10])"
      ]
     },
     "execution_count": 168,
     "metadata": {},
     "output_type": "execute_result"
    }
   ],
   "source": [
    "train_score = torch.load('train_score.pt')\n",
    "train_score.shape"
   ]
  },
  {
   "cell_type": "code",
   "execution_count": null,
   "metadata": {},
   "outputs": [
    {
     "data": {
      "text/plain": [
       "(200,)"
      ]
     },
     "execution_count": 138,
     "metadata": {},
     "output_type": "execute_result"
    }
   ],
   "source": [
    "y_tr[0:200].shape"
   ]
  },
  {
   "cell_type": "code",
   "execution_count": null,
   "metadata": {},
   "outputs": [
    {
     "data": {
      "image/png": "[encoded data removed]",
      "text/plain": [
       "<Figure size 432x288 with 1 Axes>"
      ]
     },
     "metadata": {
      "needs_background": "light"
     },
     "output_type": "display_data"
    }
   ],
   "source": [
    "plt.scatter(y_tr[0:500], train_score[0:500, 0])\n",
    "plt.show()\n",
    "# torch.scatter(train_score[0:200, 0], index = torch.from_numpy(y_tr[0:200]))"
   ]
  }
 ],
 "metadata": {
  "interpreter": {
   "hash": "f9f85f796d01129d0dd105a088854619f454435301f6ffec2fea96ecbd9be4ac"
  },
  "kernelspec": {
   "display_name": "Python 3.9.5 64-bit",
   "language": "python",
   "name": "python3"
  },
  "language_info": {
   "codemirror_mode": {
    "name": "ipython",
    "version": 3
   },
   "file_extension": ".py",
   "mimetype": "text/x-python",
   "name": "python",
   "nbconvert_exporter": "python",
   "pygments_lexer": "ipython3",
   "version": "3.9.5"
  },
  "orig_nbformat": 4
 },
 "nbformat": 4,
 "nbformat_minor": 2
}
